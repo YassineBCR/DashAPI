{
 "cells": [
  {
   "cell_type": "code",
   "execution_count": 57,
   "id": "a8899033-a697-4127-be6c-a6bd512e34ae",
   "metadata": {},
   "outputs": [],
   "source": [
    "import pandas as pd\n",
    "import matplotlib.pyplot as plt\n",
    "import numpy as np\n",
    "from sklearn.preprocessing import StandardScaler\n",
    "from sklearn.model_selection import train_test_split\n",
    "from sklearn.tree import DecisionTreeRegressor, plot_tree\n",
    "from sklearn.neighbors import KNeighborsRegressor\n",
    "from sklearn.linear_model import LinearRegression\n",
    "from sklearn.ensemble import RandomForestRegressor\n",
    "from sklearn.metrics import mean_squared_error\n"
   ]
  },
  {
   "cell_type": "code",
   "execution_count": 58,
   "id": "505c7de3-82a7-4e5b-9a19-2a88f24f7d9f",
   "metadata": {},
   "outputs": [],
   "source": [
    "df = pd.read_csv('C_transactions.csv')\n",
    "\n",
    "if 'Unnamed: 0' in df.columns:\n",
    "    df = df.drop('Unnamed: 0', axis=1)\n",
    "    \n",
    "df['prix_m2'] = df['prix'] / (df['surface_habitable'])"
   ]
  },
  {
   "cell_type": "code",
   "execution_count": 59,
   "id": "09bdfb2e-7e6f-4c85-9f9c-bde17155cb55",
   "metadata": {},
   "outputs": [],
   "source": [
    "paris_df = df[(df.departement == 75) & (df.n_pieces == 4) & (df.date_transaction.str.startswith('2022-'))]\n",
    "surface_cols = [c for c in paris_df.columns if 'surface_' in c and c != 'surface_habitable']\n",
    "paris_df = paris_df.copy()\n",
    "for c in surface_cols:\n",
    "    paris_df.loc[:, c + '_sum'] = paris_df[c].apply(lambda x: sum(eval(x)) if 'NULL' not in x else 0)\n",
    "paris_df = paris_df[paris_df[[c + '_sum' for c in surface_cols]].sum(axis=1) == 0]"
   ]
  },
  {
   "cell_type": "code",
   "execution_count": 60,
   "id": "62e73126-bae5-4d58-babd-f667622344f5",
   "metadata": {},
   "outputs": [
    {
     "data": {
      "text/html": [
       "<div>\n",
       "<style scoped>\n",
       "    .dataframe tbody tr th:only-of-type {\n",
       "        vertical-align: middle;\n",
       "    }\n",
       "\n",
       "    .dataframe tbody tr th {\n",
       "        vertical-align: top;\n",
       "    }\n",
       "\n",
       "    .dataframe thead th {\n",
       "        text-align: right;\n",
       "    }\n",
       "</style>\n",
       "<table border=\"1\" class=\"dataframe\">\n",
       "  <thead>\n",
       "    <tr style=\"text-align: right;\">\n",
       "      <th></th>\n",
       "      <th>id_transaction</th>\n",
       "      <th>date_transaction</th>\n",
       "      <th>prix</th>\n",
       "      <th>departement</th>\n",
       "      <th>id_ville</th>\n",
       "      <th>ville</th>\n",
       "      <th>code_postal</th>\n",
       "      <th>adresse</th>\n",
       "      <th>type_batiment</th>\n",
       "      <th>vefa</th>\n",
       "      <th>...</th>\n",
       "      <th>surface_locaux_industriels</th>\n",
       "      <th>surface_terrains_agricoles</th>\n",
       "      <th>surface_terrains_sols</th>\n",
       "      <th>surface_terrains_nature</th>\n",
       "      <th>prix_m2</th>\n",
       "      <th>surface_dependances_sum</th>\n",
       "      <th>surface_locaux_industriels_sum</th>\n",
       "      <th>surface_terrains_agricoles_sum</th>\n",
       "      <th>surface_terrains_sols_sum</th>\n",
       "      <th>surface_terrains_nature_sum</th>\n",
       "    </tr>\n",
       "  </thead>\n",
       "  <tbody>\n",
       "    <tr>\n",
       "      <th>6044001</th>\n",
       "      <td>10069282</td>\n",
       "      <td>2022-01-03</td>\n",
       "      <td>1275900.0</td>\n",
       "      <td>75</td>\n",
       "      <td>111</td>\n",
       "      <td>PARIS 11</td>\n",
       "      <td>75011</td>\n",
       "      <td>22 RUE OBERKAMPF</td>\n",
       "      <td>Appartement</td>\n",
       "      <td>False</td>\n",
       "      <td>...</td>\n",
       "      <td>{}</td>\n",
       "      <td>{}</td>\n",
       "      <td>{}</td>\n",
       "      <td>{}</td>\n",
       "      <td>14665.517241</td>\n",
       "      <td>0</td>\n",
       "      <td>0</td>\n",
       "      <td>0</td>\n",
       "      <td>0</td>\n",
       "      <td>0</td>\n",
       "    </tr>\n",
       "    <tr>\n",
       "      <th>6044016</th>\n",
       "      <td>10044210</td>\n",
       "      <td>2022-01-03</td>\n",
       "      <td>1330000.0</td>\n",
       "      <td>75</td>\n",
       "      <td>116</td>\n",
       "      <td>PARIS 16</td>\n",
       "      <td>75016</td>\n",
       "      <td>35 BD DE BEAUSEJOUR</td>\n",
       "      <td>Appartement</td>\n",
       "      <td>False</td>\n",
       "      <td>...</td>\n",
       "      <td>{}</td>\n",
       "      <td>{}</td>\n",
       "      <td>{}</td>\n",
       "      <td>{}</td>\n",
       "      <td>11083.333333</td>\n",
       "      <td>0</td>\n",
       "      <td>0</td>\n",
       "      <td>0</td>\n",
       "      <td>0</td>\n",
       "      <td>0</td>\n",
       "    </tr>\n",
       "    <tr>\n",
       "      <th>6044024</th>\n",
       "      <td>10057293</td>\n",
       "      <td>2022-01-04</td>\n",
       "      <td>951465.0</td>\n",
       "      <td>75</td>\n",
       "      <td>119</td>\n",
       "      <td>PARIS 19</td>\n",
       "      <td>75019</td>\n",
       "      <td>47 AV MATHURIN MOREAU</td>\n",
       "      <td>Appartement</td>\n",
       "      <td>False</td>\n",
       "      <td>...</td>\n",
       "      <td>{}</td>\n",
       "      <td>{}</td>\n",
       "      <td>{}</td>\n",
       "      <td>{}</td>\n",
       "      <td>8649.681818</td>\n",
       "      <td>0</td>\n",
       "      <td>0</td>\n",
       "      <td>0</td>\n",
       "      <td>0</td>\n",
       "      <td>0</td>\n",
       "    </tr>\n",
       "    <tr>\n",
       "      <th>6044026</th>\n",
       "      <td>10043288</td>\n",
       "      <td>2022-01-04</td>\n",
       "      <td>560000.0</td>\n",
       "      <td>75</td>\n",
       "      <td>112</td>\n",
       "      <td>PARIS 12</td>\n",
       "      <td>75012</td>\n",
       "      <td>117 AV DU GAL MICHEL BIZOT</td>\n",
       "      <td>Appartement</td>\n",
       "      <td>False</td>\n",
       "      <td>...</td>\n",
       "      <td>{}</td>\n",
       "      <td>{}</td>\n",
       "      <td>{}</td>\n",
       "      <td>{}</td>\n",
       "      <td>8615.384615</td>\n",
       "      <td>0</td>\n",
       "      <td>0</td>\n",
       "      <td>0</td>\n",
       "      <td>0</td>\n",
       "      <td>0</td>\n",
       "    </tr>\n",
       "    <tr>\n",
       "      <th>6044041</th>\n",
       "      <td>10056347</td>\n",
       "      <td>2022-01-04</td>\n",
       "      <td>820000.0</td>\n",
       "      <td>75</td>\n",
       "      <td>115</td>\n",
       "      <td>PARIS 15</td>\n",
       "      <td>75015</td>\n",
       "      <td>10 RUE BEATRIX DUSSANE</td>\n",
       "      <td>Appartement</td>\n",
       "      <td>False</td>\n",
       "      <td>...</td>\n",
       "      <td>{}</td>\n",
       "      <td>{}</td>\n",
       "      <td>{}</td>\n",
       "      <td>{}</td>\n",
       "      <td>11714.285714</td>\n",
       "      <td>0</td>\n",
       "      <td>0</td>\n",
       "      <td>0</td>\n",
       "      <td>0</td>\n",
       "      <td>0</td>\n",
       "    </tr>\n",
       "  </tbody>\n",
       "</table>\n",
       "<p>5 rows × 26 columns</p>\n",
       "</div>"
      ],
      "text/plain": [
       "         id_transaction date_transaction       prix  departement  id_ville  \\\n",
       "6044001        10069282       2022-01-03  1275900.0           75       111   \n",
       "6044016        10044210       2022-01-03  1330000.0           75       116   \n",
       "6044024        10057293       2022-01-04   951465.0           75       119   \n",
       "6044026        10043288       2022-01-04   560000.0           75       112   \n",
       "6044041        10056347       2022-01-04   820000.0           75       115   \n",
       "\n",
       "            ville  code_postal                     adresse type_batiment  \\\n",
       "6044001  PARIS 11        75011            22 RUE OBERKAMPF   Appartement   \n",
       "6044016  PARIS 16        75016         35 BD DE BEAUSEJOUR   Appartement   \n",
       "6044024  PARIS 19        75019       47 AV MATHURIN MOREAU   Appartement   \n",
       "6044026  PARIS 12        75012  117 AV DU GAL MICHEL BIZOT   Appartement   \n",
       "6044041  PARIS 15        75015      10 RUE BEATRIX DUSSANE   Appartement   \n",
       "\n",
       "          vefa  ...  surface_locaux_industriels  surface_terrains_agricoles  \\\n",
       "6044001  False  ...                          {}                          {}   \n",
       "6044016  False  ...                          {}                          {}   \n",
       "6044024  False  ...                          {}                          {}   \n",
       "6044026  False  ...                          {}                          {}   \n",
       "6044041  False  ...                          {}                          {}   \n",
       "\n",
       "        surface_terrains_sols  surface_terrains_nature       prix_m2  \\\n",
       "6044001                    {}                       {}  14665.517241   \n",
       "6044016                    {}                       {}  11083.333333   \n",
       "6044024                    {}                       {}   8649.681818   \n",
       "6044026                    {}                       {}   8615.384615   \n",
       "6044041                    {}                       {}  11714.285714   \n",
       "\n",
       "        surface_dependances_sum surface_locaux_industriels_sum  \\\n",
       "6044001                       0                              0   \n",
       "6044016                       0                              0   \n",
       "6044024                       0                              0   \n",
       "6044026                       0                              0   \n",
       "6044041                       0                              0   \n",
       "\n",
       "        surface_terrains_agricoles_sum surface_terrains_sols_sum  \\\n",
       "6044001                              0                         0   \n",
       "6044016                              0                         0   \n",
       "6044024                              0                         0   \n",
       "6044026                              0                         0   \n",
       "6044041                              0                         0   \n",
       "\n",
       "        surface_terrains_nature_sum  \n",
       "6044001                           0  \n",
       "6044016                           0  \n",
       "6044024                           0  \n",
       "6044026                           0  \n",
       "6044041                           0  \n",
       "\n",
       "[5 rows x 26 columns]"
      ]
     },
     "execution_count": 60,
     "metadata": {},
     "output_type": "execute_result"
    }
   ],
   "source": [
    "paris_df.head()"
   ]
  },
  {
   "cell_type": "code",
   "execution_count": 61,
   "id": "72f2ddb2-48b2-4db6-8e8e-d18b8386cb75",
   "metadata": {},
   "outputs": [
    {
     "data": {
      "text/plain": [
       "(3659, 26)"
      ]
     },
     "execution_count": 61,
     "metadata": {},
     "output_type": "execute_result"
    }
   ],
   "source": [
    "paris_df.shape"
   ]
  },
  {
   "cell_type": "code",
   "execution_count": 62,
   "id": "06d22904",
   "metadata": {},
   "outputs": [],
   "source": [
    "# Convertir la colonne date_transaction en format datetime si elle n'est pas déjà en datetime\n",
    "paris_df['date_transaction'] = pd.to_datetime(paris_df['date_transaction'], errors='coerce')\n",
    "\n",
    "# Extraire le mois, le jour et l'année de la transaction\n",
    "paris_df['mois_transaction'] = paris_df['date_transaction'].dt.month\n",
    "paris_df['jour_transaction'] = paris_df['date_transaction'].dt.day\n",
    "paris_df['annee_transaction'] = paris_df['date_transaction'].dt.year"
   ]
  },
  {
   "cell_type": "code",
   "execution_count": 63,
   "id": "fe97ac41-3100-49e5-85bb-1a1d4da02d76",
   "metadata": {},
   "outputs": [],
   "source": [
    "X = paris_df[['longitude', 'latitude','mois_transaction']].values\n",
    "y = paris_df['prix_m2'].values"
   ]
  },
  {
   "cell_type": "code",
   "execution_count": 64,
   "id": "41595f1d-170e-412d-a0fb-5eeb34506e15",
   "metadata": {},
   "outputs": [],
   "source": [
    "X_train, X_test, y_train, y_test = train_test_split(X, y, test_size=0.2, random_state = 42)"
   ]
  },
  {
   "cell_type": "code",
   "execution_count": 65,
   "id": "65de84f1-af68-4f78-b1cc-2f92421b369c",
   "metadata": {},
   "outputs": [
    {
     "data": {
      "text/plain": [
       "<Axes: >"
      ]
     },
     "execution_count": 65,
     "metadata": {},
     "output_type": "execute_result"
    },
    {
     "data": {
      "image/png": "[encoded data removed]",
      "text/plain": [
       "<Figure size 640x480 with 1 Axes>"
      ]
     },
     "metadata": {},
     "output_type": "display_data"
    }
   ],
   "source": [
    "paris_df.prix_m2.hist(bins=50)"
   ]
  },
  {
   "cell_type": "code",
   "execution_count": 66,
   "id": "f4be2006-e11c-4b44-80ef-f7de493a48cd",
   "metadata": {},
   "outputs": [
    {
     "data": {
      "text/html": [
       "<div>\n",
       "<style scoped>\n",
       "    .dataframe tbody tr th:only-of-type {\n",
       "        vertical-align: middle;\n",
       "    }\n",
       "\n",
       "    .dataframe tbody tr th {\n",
       "        vertical-align: top;\n",
       "    }\n",
       "\n",
       "    .dataframe thead th {\n",
       "        text-align: right;\n",
       "    }\n",
       "</style>\n",
       "<table border=\"1\" class=\"dataframe\">\n",
       "  <thead>\n",
       "    <tr style=\"text-align: right;\">\n",
       "      <th></th>\n",
       "      <th>id_transaction</th>\n",
       "      <th>date_transaction</th>\n",
       "      <th>prix</th>\n",
       "      <th>departement</th>\n",
       "      <th>id_ville</th>\n",
       "      <th>ville</th>\n",
       "      <th>code_postal</th>\n",
       "      <th>adresse</th>\n",
       "      <th>type_batiment</th>\n",
       "      <th>vefa</th>\n",
       "      <th>...</th>\n",
       "      <th>surface_terrains_nature</th>\n",
       "      <th>prix_m2</th>\n",
       "      <th>surface_dependances_sum</th>\n",
       "      <th>surface_locaux_industriels_sum</th>\n",
       "      <th>surface_terrains_agricoles_sum</th>\n",
       "      <th>surface_terrains_sols_sum</th>\n",
       "      <th>surface_terrains_nature_sum</th>\n",
       "      <th>mois_transaction</th>\n",
       "      <th>jour_transaction</th>\n",
       "      <th>annee_transaction</th>\n",
       "    </tr>\n",
       "  </thead>\n",
       "  <tbody>\n",
       "    <tr>\n",
       "      <th>6048796</th>\n",
       "      <td>10057507</td>\n",
       "      <td>2022-02-25</td>\n",
       "      <td>9200000.0</td>\n",
       "      <td>75</td>\n",
       "      <td>106</td>\n",
       "      <td>PARIS 06</td>\n",
       "      <td>75006</td>\n",
       "      <td>5 QUAI MALAQUAIS</td>\n",
       "      <td>Appartement</td>\n",
       "      <td>False</td>\n",
       "      <td>...</td>\n",
       "      <td>{}</td>\n",
       "      <td>97872.340426</td>\n",
       "      <td>0</td>\n",
       "      <td>0</td>\n",
       "      <td>0</td>\n",
       "      <td>0</td>\n",
       "      <td>0</td>\n",
       "      <td>2</td>\n",
       "      <td>25</td>\n",
       "      <td>2022</td>\n",
       "    </tr>\n",
       "  </tbody>\n",
       "</table>\n",
       "<p>1 rows × 29 columns</p>\n",
       "</div>"
      ],
      "text/plain": [
       "         id_transaction date_transaction       prix  departement  id_ville  \\\n",
       "6048796        10057507       2022-02-25  9200000.0           75       106   \n",
       "\n",
       "            ville  code_postal           adresse type_batiment   vefa  ...  \\\n",
       "6048796  PARIS 06        75006  5 QUAI MALAQUAIS   Appartement  False  ...   \n",
       "\n",
       "         surface_terrains_nature       prix_m2 surface_dependances_sum  \\\n",
       "6048796                       {}  97872.340426                       0   \n",
       "\n",
       "         surface_locaux_industriels_sum  surface_terrains_agricoles_sum  \\\n",
       "6048796                               0                               0   \n",
       "\n",
       "        surface_terrains_sols_sum surface_terrains_nature_sum  \\\n",
       "6048796                         0                           0   \n",
       "\n",
       "        mois_transaction jour_transaction annee_transaction  \n",
       "6048796                2               25              2022  \n",
       "\n",
       "[1 rows x 29 columns]"
      ]
     },
     "execution_count": 66,
     "metadata": {},
     "output_type": "execute_result"
    }
   ],
   "source": [
    "paris_df[paris_df.prix_m2 > 50000]"
   ]
  },
  {
   "cell_type": "code",
   "execution_count": 67,
   "id": "4fd555fc-911f-4c80-8269-8ad5b7c89528",
   "metadata": {},
   "outputs": [
    {
     "data": {
      "text/plain": [
       "{'id_transaction': {},\n",
       " 'date_transaction': {},\n",
       " 'prix': {},\n",
       " 'departement': {},\n",
       " 'id_ville': {},\n",
       " 'ville': {},\n",
       " 'code_postal': {},\n",
       " 'adresse': {},\n",
       " 'type_batiment': {},\n",
       " 'vefa': {},\n",
       " 'n_pieces': {},\n",
       " 'surface_habitable': {},\n",
       " 'id_parcelle_cadastre': {},\n",
       " 'latitude': {},\n",
       " 'longitude': {},\n",
       " 'surface_dependances': {},\n",
       " 'surface_locaux_industriels': {},\n",
       " 'surface_terrains_agricoles': {},\n",
       " 'surface_terrains_sols': {},\n",
       " 'surface_terrains_nature': {},\n",
       " 'prix_m2': {},\n",
       " 'surface_dependances_sum': {},\n",
       " 'surface_locaux_industriels_sum': {},\n",
       " 'surface_terrains_agricoles_sum': {},\n",
       " 'surface_terrains_sols_sum': {},\n",
       " 'surface_terrains_nature_sum': {},\n",
       " 'mois_transaction': {},\n",
       " 'jour_transaction': {},\n",
       " 'annee_transaction': {}}"
      ]
     },
     "execution_count": 67,
     "metadata": {},
     "output_type": "execute_result"
    }
   ],
   "source": [
    "paris_df[paris_df.id_transaction == 10056535].to_dict()"
   ]
  },
  {
   "cell_type": "code",
   "execution_count": 68,
   "id": "d9f434e1-2030-4869-8eaa-f70c8234bc1b",
   "metadata": {},
   "outputs": [],
   "source": [
    "#model_DTR = DecisionTreeRegressor(max_depth=2)\n",
    "#model_DTR.fit(X_train, y_train)\n",
    "#model_DTR.fit(X_test, y_test)"
   ]
  },
  {
   "cell_type": "code",
   "execution_count": 69,
   "id": "be176cea-35d2-4946-852d-3d81e6c2718a",
   "metadata": {},
   "outputs": [
    {
     "data": {
      "image/png": "[encoded data removed]",
      "text/plain": [
       "<Figure size 1500x1500 with 1 Axes>"
      ]
     },
     "metadata": {},
     "output_type": "display_data"
    }
   ],
   "source": [
    "plt.figure(figsize=(15, 15))\n",
    "plot_tree(model_DTR, feature_names=['latitude', 'longitude'], fontsize=10)\n",
    "plt.show()"
   ]
  },
  {
   "cell_type": "code",
   "execution_count": 70,
   "id": "d934aca6",
   "metadata": {},
   "outputs": [],
   "source": [
    "def plot_with_contour(model, X, y):\n",
    "    \n",
    "    # Visualisation des contours de décision\n",
    "    x_min, x_max = X[:, 0].min() - 0.01, X[:, 0].max() + 0.01\n",
    "    y_min, y_max = X[:, 1].min() - 0.01, X[:, 1].max() + 0.01\n",
    "    \n",
    "    xx, yy = np.meshgrid(np.arange(x_min, x_max, 0.001),\n",
    "                         np.arange(y_min, y_max, 0.001))\n",
    "    \n",
    "    Z = model.predict(np.c_[xx.ravel(), yy.ravel()])\n",
    "    Z = Z.reshape(xx.shape)\n",
    "    \n",
    "    plt.contourf(xx, yy, Z, alpha=1, cmap='coolwarm')\n",
    "    \n",
    "    # Normalize the colormap to ignore extreme values\n",
    "    # sc = plt.scatter(X[:, 0], X[:, 1], c=y, vmin=0, vmax=20_2000,\n",
    "    #                 marker='o', s=5, linewidth=1, cmap='coolwarm')\n",
    "    \n",
    "    sc = plt.scatter(X[:, 0], X[:, 1], c=y, vmin=np.percentile(y, 5), vmax=np.percentile(y, 95), \n",
    "                     marker='o', s=5, linewidth=1, cmap='coolwarm')\n",
    "    \n",
    "    \n",
    "    plt.colorbar(sc, label='prix m2', orientation='vertical')\n",
    "    \n",
    "    \n",
    "    plt.title(\"Contours de décision de l'arbre de décision\")\n",
    "    plt.xlabel(\"Longitude\")\n",
    "    plt.ylabel(\"Latitude\")\n",
    "    plt.show()"
   ]
  },
  {
   "cell_type": "code",
   "execution_count": 71,
   "id": "954a97d9",
   "metadata": {},
   "outputs": [],
   "source": [
    "#model_KN = KNeighborsRegressor(n_neighbors=50)\n",
    "#model_KN.fit(X_train, y_train)\n",
    "#model_KN.fit(X_test, y_test)"
   ]
  },
  {
   "cell_type": "code",
   "execution_count": 72,
   "id": "61e3f818",
   "metadata": {},
   "outputs": [],
   "source": [
    "#model_LR = LinearRegression()\n",
    "#model_LR.fit(X_train, y_train)\n",
    "#model_LR.fit(X_test, y_test)\n"
   ]
  },
  {
   "cell_type": "code",
   "execution_count": 73,
   "id": "86c4e0e5",
   "metadata": {},
   "outputs": [],
   "source": [
    "#model_DTR = DecisionTreeRegressor(max_depth=4)\n",
    "#model_DTR.fit(X_train, y_train)\n",
    "#model_DTR.fit(X_test, y_test)"
   ]
  },
  {
   "cell_type": "code",
   "execution_count": 74,
   "id": "d38f55ef",
   "metadata": {},
   "outputs": [
    {
     "data": {
      "text/html": [
       "<style>#sk-container-id-5 {color: black;}#sk-container-id-5 pre{padding: 0;}#sk-container-id-5 div.sk-toggleable {background-color: white;}#sk-container-id-5 label.sk-toggleable__label {cursor: pointer;display: block;width: 100%;margin-bottom: 0;padding: 0.3em;box-sizing: border-box;text-align: center;}#sk-container-id-5 label.sk-toggleable__label-arrow:before {content: \"▸\";float: left;margin-right: 0.25em;color: #696969;}#sk-container-id-5 label.sk-toggleable__label-arrow:hover:before {color: black;}#sk-container-id-5 div.sk-estimator:hover label.sk-toggleable__label-arrow:before {color: black;}#sk-container-id-5 div.sk-toggleable__content {max-height: 0;max-width: 0;overflow: hidden;text-align: left;background-color: #f0f8ff;}#sk-container-id-5 div.sk-toggleable__content pre {margin: 0.2em;color: black;border-radius: 0.25em;background-color: #f0f8ff;}#sk-container-id-5 input.sk-toggleable__control:checked~div.sk-toggleable__content {max-height: 200px;max-width: 100%;overflow: auto;}#sk-container-id-5 input.sk-toggleable__control:checked~label.sk-toggleable__label-arrow:before {content: \"▾\";}#sk-container-id-5 div.sk-estimator input.sk-toggleable__control:checked~label.sk-toggleable__label {background-color: #d4ebff;}#sk-container-id-5 div.sk-label input.sk-toggleable__control:checked~label.sk-toggleable__label {background-color: #d4ebff;}#sk-container-id-5 input.sk-hidden--visually {border: 0;clip: rect(1px 1px 1px 1px);clip: rect(1px, 1px, 1px, 1px);height: 1px;margin: -1px;overflow: hidden;padding: 0;position: absolute;width: 1px;}#sk-container-id-5 div.sk-estimator {font-family: monospace;background-color: #f0f8ff;border: 1px dotted black;border-radius: 0.25em;box-sizing: border-box;margin-bottom: 0.5em;}#sk-container-id-5 div.sk-estimator:hover {background-color: #d4ebff;}#sk-container-id-5 div.sk-parallel-item::after {content: \"\";width: 100%;border-bottom: 1px solid gray;flex-grow: 1;}#sk-container-id-5 div.sk-label:hover label.sk-toggleable__label {background-color: #d4ebff;}#sk-container-id-5 div.sk-serial::before {content: \"\";position: absolute;border-left: 1px solid gray;box-sizing: border-box;top: 0;bottom: 0;left: 50%;z-index: 0;}#sk-container-id-5 div.sk-serial {display: flex;flex-direction: column;align-items: center;background-color: white;padding-right: 0.2em;padding-left: 0.2em;position: relative;}#sk-container-id-5 div.sk-item {position: relative;z-index: 1;}#sk-container-id-5 div.sk-parallel {display: flex;align-items: stretch;justify-content: center;background-color: white;position: relative;}#sk-container-id-5 div.sk-item::before, #sk-container-id-5 div.sk-parallel-item::before {content: \"\";position: absolute;border-left: 1px solid gray;box-sizing: border-box;top: 0;bottom: 0;left: 50%;z-index: -1;}#sk-container-id-5 div.sk-parallel-item {display: flex;flex-direction: column;z-index: 1;position: relative;background-color: white;}#sk-container-id-5 div.sk-parallel-item:first-child::after {align-self: flex-end;width: 50%;}#sk-container-id-5 div.sk-parallel-item:last-child::after {align-self: flex-start;width: 50%;}#sk-container-id-5 div.sk-parallel-item:only-child::after {width: 0;}#sk-container-id-5 div.sk-dashed-wrapped {border: 1px dashed gray;margin: 0 0.4em 0.5em 0.4em;box-sizing: border-box;padding-bottom: 0.4em;background-color: white;}#sk-container-id-5 div.sk-label label {font-family: monospace;font-weight: bold;display: inline-block;line-height: 1.2em;}#sk-container-id-5 div.sk-label-container {text-align: center;}#sk-container-id-5 div.sk-container {/* jupyter's `normalize.less` sets `[hidden] { display: none; }` but bootstrap.min.css set `[hidden] { display: none !important; }` so we also need the `!important` here to be able to override the default hidden behavior on the sphinx rendered scikit-learn.org. See: https://github.com/scikit-learn/scikit-learn/issues/21755 */display: inline-block !important;position: relative;}#sk-container-id-5 div.sk-text-repr-fallback {display: none;}</style><div id=\"sk-container-id-5\" class=\"sk-top-container\"><div class=\"sk-text-repr-fallback\"><pre>RandomForestRegressor(max_depth=100, min_samples_leaf=10, n_estimators=1000)</pre><b>In a Jupyter environment, please rerun this cell to show the HTML representation or trust the notebook. <br />On GitHub, the HTML representation is unable to render, please try loading this page with nbviewer.org.</b></div><div class=\"sk-container\" hidden><div class=\"sk-item\"><div class=\"sk-estimator sk-toggleable\"><input class=\"sk-toggleable__control sk-hidden--visually\" id=\"sk-estimator-id-5\" type=\"checkbox\" checked><label for=\"sk-estimator-id-5\" class=\"sk-toggleable__label sk-toggleable__label-arrow\">RandomForestRegressor</label><div class=\"sk-toggleable__content\"><pre>RandomForestRegressor(max_depth=100, min_samples_leaf=10, n_estimators=1000)</pre></div></div></div></div></div>"
      ],
      "text/plain": [
       "RandomForestRegressor(max_depth=100, min_samples_leaf=10, n_estimators=1000)"
      ]
     },
     "execution_count": 74,
     "metadata": {},
     "output_type": "execute_result"
    }
   ],
   "source": [
    "model_RFR= RandomForestRegressor(max_depth=100, min_samples_leaf=10, n_estimators=1000)\n",
    "model_RFR.fit(X_train, y_train)\n",
    "#model_RFR.fit(X_test, y_test)"
   ]
  },
  {
   "cell_type": "code",
   "execution_count": 75,
   "id": "e7e53824",
   "metadata": {},
   "outputs": [],
   "source": [
    "#plot_with_contour(model_KN, paris_df[['longitude', 'latitude']].values, paris_df['prix_m2'].values)\n",
    "#plot_with_contour(model_KN, X_train,y_train)\n",
    "#plot_with_contour(model_KN, X_test,y_test)"
   ]
  },
  {
   "cell_type": "code",
   "execution_count": null,
   "id": "8db90100",
   "metadata": {},
   "outputs": [],
   "source": []
  },
  {
   "cell_type": "code",
   "execution_count": 76,
   "id": "a235f4be",
   "metadata": {},
   "outputs": [],
   "source": [
    "#np.sqrt(mean_squared_error(y_train, model_DTR.predict(X_train)))\n"
   ]
  },
  {
   "cell_type": "code",
   "execution_count": 77,
   "id": "da45b0a9",
   "metadata": {},
   "outputs": [],
   "source": [
    "#np.sqrt(mean_squared_error(y_test, model_DTR.predict(X_test)))"
   ]
  },
  {
   "cell_type": "code",
   "execution_count": null,
   "id": "c2633f85",
   "metadata": {},
   "outputs": [],
   "source": []
  },
  {
   "cell_type": "code",
   "execution_count": 78,
   "id": "6056af04",
   "metadata": {},
   "outputs": [],
   "source": [
    "#np.sqrt(mean_squared_error(y_train, model_KN.predict(X_train)))\n"
   ]
  },
  {
   "cell_type": "code",
   "execution_count": 79,
   "id": "f99c9abf",
   "metadata": {},
   "outputs": [],
   "source": [
    "#np.sqrt(mean_squared_error(y_test, model_KN.predict(X_test)))"
   ]
  },
  {
   "cell_type": "code",
   "execution_count": null,
   "id": "c8c581b2",
   "metadata": {},
   "outputs": [],
   "source": []
  },
  {
   "cell_type": "code",
   "execution_count": 80,
   "id": "b6813f80",
   "metadata": {},
   "outputs": [
    {
     "data": {
      "text/plain": [
       "3447.521524757982"
      ]
     },
     "execution_count": 80,
     "metadata": {},
     "output_type": "execute_result"
    }
   ],
   "source": [
    "np.sqrt(mean_squared_error(y_train, model_RFR.predict(X_train)))\n"
   ]
  },
  {
   "cell_type": "code",
   "execution_count": 81,
   "id": "5ea2e4fe",
   "metadata": {},
   "outputs": [
    {
     "data": {
      "text/plain": [
       "3333.3538988685227"
      ]
     },
     "execution_count": 81,
     "metadata": {},
     "output_type": "execute_result"
    }
   ],
   "source": [
    "np.sqrt(mean_squared_error(y_test, model_RFR.predict(X_test)))"
   ]
  },
  {
   "cell_type": "code",
   "execution_count": 82,
   "id": "42ba8e36",
   "metadata": {},
   "outputs": [
    {
     "name": "stdout",
     "output_type": "stream",
     "text": [
      "Modèle: RFR avec params optimaux: {'max_depth': 5, 'min_samples_leaf': 6} donne erreur =\n",
      "3396.8813582591597\n"
     ]
    }
   ],
   "source": [
    "from sklearn.model_selection import GridSearchCV\n",
    "\n",
    "params_grid = {\n",
    " #               'LR': {\n",
    " #                   'model': LinearRegression(),\n",
    " #                   'params': {\n",
    "  #                      'fit_intercept': [True, False],\n",
    "  #                      'positive': [True, False]\n",
    "  #                   }\n",
    "#                 },\n",
    "#                 'DTR': {\n",
    "#                     'model': DecisionTreeRegressor(),\n",
    "#                     'params': {\n",
    "#                         'max_depth': list(range(1, 100)),\n",
    "#                     }\n",
    "#                 },\n",
    "                'RFR': {\n",
    "                    'model': RandomForestRegressor(),\n",
    "                    'params': {\n",
    "                        'max_depth': [1, 5, 10],\n",
    "                        'min_samples_leaf': [6, 80, 100],  \n",
    "                                       \n",
    "                    }\n",
    "                }\n",
    "            }\n",
    "\n",
    "for model_name, model_config in params_grid.items():\n",
    "    gs = GridSearchCV(estimator=model_config['model'], \n",
    "                      param_grid=model_config['params'])\n",
    "    gs.fit(X_train, y_train)\n",
    "    print(f'Modèle: {model_name} avec params optimaux: {gs.best_params_} donne erreur =')\n",
    "    print(np.sqrt(mean_squared_error(y_test, gs.best_estimator_.predict(X_test))))"
   ]
  },
  {
   "cell_type": "code",
   "execution_count": 83,
   "id": "79c7af62",
   "metadata": {},
   "outputs": [
    {
     "data": {
      "text/plain": [
       "['random_forest_model.pkl']"
      ]
     },
     "execution_count": 83,
     "metadata": {},
     "output_type": "execute_result"
    }
   ],
   "source": [
    "import joblib\n",
    "joblib.dump(model_RFR, \"random_forest_model.pkl\")"
   ]
  }
 ],
 "metadata": {
  "kernelspec": {
   "display_name": "Python 3 (ipykernel)",
   "language": "python",
   "name": "python3"
  },
  "language_info": {
   "codemirror_mode": {
    "name": "ipython",
    "version": 3
   },
   "file_extension": ".py",
   "mimetype": "text/x-python",
   "name": "python",
   "nbconvert_exporter": "python",
   "pygments_lexer": "ipython3",
   "version": "3.11.5"
  }
 },
 "nbformat": 4,
 "nbformat_minor": 5
}
